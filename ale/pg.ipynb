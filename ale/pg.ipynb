{
 "cells": [
  {
   "cell_type": "markdown",
   "id": "1b5158b7",
   "metadata": {},
   "source": [
    "# `WCA - 3 Cards reports - Sproc details.xlsx`\n",
    "## `Unique tables and Column detail` "
   ]
  },
  {
   "cell_type": "code",
   "execution_count": 1,
   "id": "6977740f",
   "metadata": {},
   "outputs": [],
   "source": [
    "import pandas as pd\n",
    "import numpy as np"
   ]
  },
  {
   "cell_type": "code",
   "execution_count": 2,
   "id": "dad74d90",
   "metadata": {},
   "outputs": [
    {
     "data": {
      "text/html": [
       "<div>\n",
       "<style scoped>\n",
       "    .dataframe tbody tr th:only-of-type {\n",
       "        vertical-align: middle;\n",
       "    }\n",
       "\n",
       "    .dataframe tbody tr th {\n",
       "        vertical-align: top;\n",
       "    }\n",
       "\n",
       "    .dataframe thead th {\n",
       "        text-align: right;\n",
       "    }\n",
       "</style>\n",
       "<table border=\"1\" class=\"dataframe\">\n",
       "  <thead>\n",
       "    <tr style=\"text-align: right;\">\n",
       "      <th></th>\n",
       "      <th>table_name</th>\n",
       "      <th></th>\n",
       "      <th>data_type</th>\n",
       "      <th>character_maximum_length</th>\n",
       "      <th>numeric_precision</th>\n",
       "      <th>is_nullable</th>\n",
       "    </tr>\n",
       "  </thead>\n",
       "  <tbody>\n",
       "    <tr>\n",
       "      <th>0</th>\n",
       "      <td>CARD_SHIPMENT</td>\n",
       "      <td>tpa_id</td>\n",
       "      <td>varchar</td>\n",
       "      <td>6.0</td>\n",
       "      <td>NaN</td>\n",
       "      <td>NO</td>\n",
       "    </tr>\n",
       "    <tr>\n",
       "      <th>1</th>\n",
       "      <td>CARD_SHIPMENT</td>\n",
       "      <td>card_num</td>\n",
       "      <td>varchar</td>\n",
       "      <td>19.0</td>\n",
       "      <td>NaN</td>\n",
       "      <td>NO</td>\n",
       "    </tr>\n",
       "    <tr>\n",
       "      <th>2</th>\n",
       "      <td>CARD_SHIPMENT</td>\n",
       "      <td>generation_key</td>\n",
       "      <td>int</td>\n",
       "      <td>NaN</td>\n",
       "      <td>10.0</td>\n",
       "      <td>NO</td>\n",
       "    </tr>\n",
       "    <tr>\n",
       "      <th>3</th>\n",
       "      <td>CARD_SHIPMENT</td>\n",
       "      <td>card_stock_id</td>\n",
       "      <td>varchar</td>\n",
       "      <td>5.0</td>\n",
       "      <td>NaN</td>\n",
       "      <td>NO</td>\n",
       "    </tr>\n",
       "    <tr>\n",
       "      <th>4</th>\n",
       "      <td>CARD_SHIPMENT</td>\n",
       "      <td>issue_addr_cde</td>\n",
       "      <td>smallint</td>\n",
       "      <td>NaN</td>\n",
       "      <td>5.0</td>\n",
       "      <td>NO</td>\n",
       "    </tr>\n",
       "  </tbody>\n",
       "</table>\n",
       "</div>"
      ],
      "text/plain": [
       "      table_name                 data_type  character_maximum_length  \\\n",
       "0  CARD_SHIPMENT          tpa_id   varchar                       6.0   \n",
       "1  CARD_SHIPMENT        card_num   varchar                      19.0   \n",
       "2  CARD_SHIPMENT  generation_key       int                       NaN   \n",
       "3  CARD_SHIPMENT   card_stock_id   varchar                       5.0   \n",
       "4  CARD_SHIPMENT  issue_addr_cde  smallint                       NaN   \n",
       "\n",
       "   numeric_precision is_nullable  \n",
       "0                NaN          NO  \n",
       "1                NaN          NO  \n",
       "2               10.0          NO  \n",
       "3                NaN          NO  \n",
       "4                5.0          NO  "
      ]
     },
     "execution_count": 2,
     "metadata": {},
     "output_type": "execute_result"
    }
   ],
   "source": [
    "path = r\"C:\\Users\\zhicheng.liu\\Downloads\\WCA - 3 Cards reports - Sproc details.xlsx\"\n",
    "df = pd.read_excel(io=path, sheet_name=\"Unique tables and Column detail\")\n",
    "df.columns = [\"_\".join(column.lower().split()) for column in df.columns]\n",
    "df.head()"
   ]
  },
  {
   "cell_type": "markdown",
   "id": "4398fec9",
   "metadata": {},
   "source": [
    "### `table_name`"
   ]
  },
  {
   "cell_type": "code",
   "execution_count": 3,
   "id": "5824dc3d",
   "metadata": {},
   "outputs": [
    {
     "data": {
      "text/plain": [
       "array(['CARD_SHIPMENT', 'CARD_STATUS_REASON', 'DATA_PARTNER_USER_TPA',\n",
       "       'EMPLOYEE_MISC_DATA', 'EMPLOYER', 'EMPLOYER_CLASS',\n",
       "       'EMPLOYER_DIVISION', 'EMPLOYER_USER', 'FEATURE_TPA', 'FLEX_CARD',\n",
       "       'MOBILE_PAY_ACTIVATION', 'PARTICIPANT', 'PROFILE_FUNC', 'ROLE',\n",
       "       'ROLE_EMPLOYER', 'SYSTEM_PARAMETER', 'TPA', 'USER_ID'],\n",
       "      dtype=object)"
      ]
     },
     "execution_count": 3,
     "metadata": {},
     "output_type": "execute_result"
    }
   ],
   "source": [
    "df[\"table_name\"].unique()"
   ]
  },
  {
   "cell_type": "code",
   "execution_count": 4,
   "id": "bf2e83be",
   "metadata": {},
   "outputs": [
    {
     "data": {
      "text/plain": [
       "18"
      ]
     },
     "execution_count": 4,
     "metadata": {},
     "output_type": "execute_result"
    }
   ],
   "source": [
    "df[\"table_name\"].nunique()"
   ]
  },
  {
   "cell_type": "markdown",
   "id": "6a587e21",
   "metadata": {},
   "source": [
    "### `data_type`"
   ]
  },
  {
   "cell_type": "code",
   "execution_count": 5,
   "id": "ca7de372",
   "metadata": {},
   "outputs": [
    {
     "data": {
      "text/plain": [
       "array(['varchar', 'int', 'smallint', 'char', 'datetime', 'tinyint',\n",
       "       'bigint', 'money', 'timestamp', 'bit', 'uniqueidentifier'],\n",
       "      dtype=object)"
      ]
     },
     "execution_count": 5,
     "metadata": {},
     "output_type": "execute_result"
    }
   ],
   "source": [
    "df[\"data_type\"].unique()"
   ]
  },
  {
   "cell_type": "code",
   "execution_count": 6,
   "id": "aa1f7518",
   "metadata": {},
   "outputs": [
    {
     "data": {
      "text/plain": [
       "11"
      ]
     },
     "execution_count": 6,
     "metadata": {},
     "output_type": "execute_result"
    }
   ],
   "source": [
    "df[\"data_type\"].nunique()"
   ]
  },
  {
   "cell_type": "markdown",
   "id": "dc17d1a4",
   "metadata": {},
   "source": [
    "### `character_maximum_length`"
   ]
  },
  {
   "cell_type": "code",
   "execution_count": 7,
   "id": "7674ff63",
   "metadata": {},
   "outputs": [
    {
     "data": {
      "text/plain": [
       "array([   6.,   19.,   nan,    5.,  255.,    3.,    8.,   26.,   50.,\n",
       "         30.,   15.,   45.,   90.,   75.,  150.,    2.,   36.,  100.,\n",
       "         18.,   20., 1000., 2000.,   25.,  500.,   14.,   64.,    9.,\n",
       "         12.,   10.,   88.,   16.])"
      ]
     },
     "execution_count": 7,
     "metadata": {},
     "output_type": "execute_result"
    }
   ],
   "source": [
    "df[\"character_maximum_length\"].unique()"
   ]
  },
  {
   "cell_type": "code",
   "execution_count": 8,
   "id": "373f2eed",
   "metadata": {},
   "outputs": [
    {
     "data": {
      "text/plain": [
       "30"
      ]
     },
     "execution_count": 8,
     "metadata": {},
     "output_type": "execute_result"
    }
   ],
   "source": [
    "df[\"character_maximum_length\"].nunique()"
   ]
  },
  {
   "cell_type": "markdown",
   "id": "f7b8506a",
   "metadata": {},
   "source": [
    "### `numeric_precision`"
   ]
  },
  {
   "cell_type": "code",
   "execution_count": 9,
   "id": "42021067",
   "metadata": {},
   "outputs": [
    {
     "data": {
      "text/plain": [
       "array([nan, 10.,  5.,  3., 19.])"
      ]
     },
     "execution_count": 9,
     "metadata": {},
     "output_type": "execute_result"
    }
   ],
   "source": [
    "df[\"numeric_precision\"].unique()"
   ]
  },
  {
   "cell_type": "code",
   "execution_count": 10,
   "id": "3270e172",
   "metadata": {},
   "outputs": [
    {
     "data": {
      "text/plain": [
       "4"
      ]
     },
     "execution_count": 10,
     "metadata": {},
     "output_type": "execute_result"
    }
   ],
   "source": [
    "df[\"numeric_precision\"].nunique()"
   ]
  },
  {
   "cell_type": "markdown",
   "id": "cc36b49f",
   "metadata": {},
   "source": [
    "### `is_nullable`"
   ]
  },
  {
   "cell_type": "code",
   "execution_count": 11,
   "id": "acadd24f",
   "metadata": {},
   "outputs": [
    {
     "data": {
      "text/plain": [
       "array(['NO', 'YES'], dtype=object)"
      ]
     },
     "execution_count": 11,
     "metadata": {},
     "output_type": "execute_result"
    }
   ],
   "source": [
    "df[\"is_nullable\"].unique()"
   ]
  },
  {
   "cell_type": "code",
   "execution_count": 12,
   "id": "4682fac6",
   "metadata": {},
   "outputs": [
    {
     "data": {
      "text/plain": [
       "2"
      ]
     },
     "execution_count": 12,
     "metadata": {},
     "output_type": "execute_result"
    }
   ],
   "source": [
    "df[\"is_nullable\"].nunique()"
   ]
  },
  {
   "cell_type": "code",
   "execution_count": null,
   "id": "0f962120",
   "metadata": {},
   "outputs": [],
   "source": []
  },
  {
   "cell_type": "code",
   "execution_count": null,
   "id": "147a35e7",
   "metadata": {},
   "outputs": [],
   "source": []
  },
  {
   "cell_type": "code",
   "execution_count": null,
   "id": "99bc715d",
   "metadata": {},
   "outputs": [],
   "source": []
  },
  {
   "cell_type": "code",
   "execution_count": null,
   "id": "e65cf92b",
   "metadata": {},
   "outputs": [],
   "source": []
  },
  {
   "cell_type": "code",
   "execution_count": null,
   "id": "88baba24",
   "metadata": {},
   "outputs": [],
   "source": []
  }
 ],
 "metadata": {
  "kernelspec": {
   "display_name": "Python 3 (ipykernel)",
   "language": "python",
   "name": "python3"
  },
  "language_info": {
   "codemirror_mode": {
    "name": "ipython",
    "version": 3
   },
   "file_extension": ".py",
   "mimetype": "text/x-python",
   "name": "python",
   "nbconvert_exporter": "python",
   "pygments_lexer": "ipython3",
   "version": "3.9.12"
  }
 },
 "nbformat": 4,
 "nbformat_minor": 5
}
